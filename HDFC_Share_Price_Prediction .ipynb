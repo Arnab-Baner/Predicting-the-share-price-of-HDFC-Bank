{
  "nbformat": 4,
  "nbformat_minor": 0,
  "metadata": {
    "colab": {
      "name": "HDFC Share Price Prediction",
      "provenance": [],
      "collapsed_sections": []
    },
    "kernelspec": {
      "name": "python3",
      "display_name": "Python 3"
    }
  },
  "cells": [
    {
      "cell_type": "markdown",
      "metadata": {
        "id": "DZ5THCc2rYvn",
        "colab_type": "text"
      },
      "source": [
        "## Project Goal: The goal of the project is to forecast the closing prices of HDFC bank for a period of 6 months from July to December 2020."
      ]
    },
    {
      "cell_type": "markdown",
      "metadata": {
        "id": "7vkzy_itrv23",
        "colab_type": "text"
      },
      "source": [
        "### Getting the libraries required"
      ]
    },
    {
      "cell_type": "code",
      "metadata": {
        "id": "qcYVOgjInRW5",
        "colab_type": "code",
        "colab": {}
      },
      "source": [
        "import numpy as np\n",
        "import pandas as pd\n",
        "import matplotlib.pyplot as plt\n",
        "%matplotlib inline\n",
        "from matplotlib.pylab import rcParams\n",
        "rcParams['figure.figsize'] = 20, 10"
      ],
      "execution_count": 34,
      "outputs": []
    },
    {
      "cell_type": "markdown",
      "metadata": {
        "id": "eMx1X6nZrWpV",
        "colab_type": "text"
      },
      "source": [
        "### Getting the data"
      ]
    },
    {
      "cell_type": "code",
      "metadata": {
        "id": "FDG9oMAsr6NY",
        "colab_type": "code",
        "colab": {
          "resources": {
            "http://localhost:8080/nbextensions/google.colab/files.js": {
              "data": "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",
              "ok": true,
              "headers": [
                [
                  "content-type",
                  "application/javascript"
                ]
              ],
              "status": 200,
              "status_text": ""
            }
          },
          "base_uri": "https://localhost:8080/",
          "height": 72
        },
        "outputId": "ba44b6ef-ed9c-4898-b510-ee5af6f5b9f2"
      },
      "source": [
        "from google.colab import files\n",
        "uploaded = files.upload()"
      ],
      "execution_count": null,
      "outputs": [
        {
          "output_type": "display_data",
          "data": {
            "text/html": [
              "\n",
              "     <input type=\"file\" id=\"files-fb515957-fa05-4349-a8f3-6322e551e0aa\" name=\"files[]\" multiple disabled\n",
              "        style=\"border:none\" />\n",
              "     <output id=\"result-fb515957-fa05-4349-a8f3-6322e551e0aa\">\n",
              "      Upload widget is only available when the cell has been executed in the\n",
              "      current browser session. Please rerun this cell to enable.\n",
              "      </output>\n",
              "      <script src=\"/nbextensions/google.colab/files.js\"></script> "
            ],
            "text/plain": [
              "<IPython.core.display.HTML object>"
            ]
          },
          "metadata": {
            "tags": []
          }
        },
        {
          "output_type": "stream",
          "text": [
            "Saving HDFCBANK.NS.csv to HDFCBANK.NS (2).csv\n"
          ],
          "name": "stdout"
        }
      ]
    },
    {
      "cell_type": "code",
      "metadata": {
        "id": "Gk9kEFVRsbfc",
        "colab_type": "code",
        "colab": {}
      },
      "source": [
        "import io\n",
        "df = pd.read_csv(io.BytesIO(uploaded['HDFCBANK.NS.csv']))"
      ],
      "execution_count": 36,
      "outputs": []
    },
    {
      "cell_type": "code",
      "metadata": {
        "id": "bOAeMmEbs5X9",
        "colab_type": "code",
        "colab": {
          "base_uri": "https://localhost:8080/",
          "height": 204
        },
        "outputId": "1dde7833-92b5-49e8-d2d8-d9e5e69ff7c4"
      },
      "source": [
        "df.head()"
      ],
      "execution_count": 37,
      "outputs": [
        {
          "output_type": "execute_result",
          "data": {
            "text/html": [
              "<div>\n",
              "<style scoped>\n",
              "    .dataframe tbody tr th:only-of-type {\n",
              "        vertical-align: middle;\n",
              "    }\n",
              "\n",
              "    .dataframe tbody tr th {\n",
              "        vertical-align: top;\n",
              "    }\n",
              "\n",
              "    .dataframe thead th {\n",
              "        text-align: right;\n",
              "    }\n",
              "</style>\n",
              "<table border=\"1\" class=\"dataframe\">\n",
              "  <thead>\n",
              "    <tr style=\"text-align: right;\">\n",
              "      <th></th>\n",
              "      <th>Date</th>\n",
              "      <th>Open</th>\n",
              "      <th>High</th>\n",
              "      <th>Low</th>\n",
              "      <th>Close</th>\n",
              "      <th>Adj Close</th>\n",
              "      <th>Volume</th>\n",
              "    </tr>\n",
              "  </thead>\n",
              "  <tbody>\n",
              "    <tr>\n",
              "      <th>0</th>\n",
              "      <td>6/30/2015</td>\n",
              "      <td>526.125000</td>\n",
              "      <td>536.000000</td>\n",
              "      <td>524.000000</td>\n",
              "      <td>533.575012</td>\n",
              "      <td>506.103973</td>\n",
              "      <td>3645068.0</td>\n",
              "    </tr>\n",
              "    <tr>\n",
              "      <th>1</th>\n",
              "      <td>7/1/2015</td>\n",
              "      <td>530.674988</td>\n",
              "      <td>538.500000</td>\n",
              "      <td>530.025024</td>\n",
              "      <td>536.174988</td>\n",
              "      <td>508.570099</td>\n",
              "      <td>2485594.0</td>\n",
              "    </tr>\n",
              "    <tr>\n",
              "      <th>2</th>\n",
              "      <td>7/2/2015</td>\n",
              "      <td>532.500000</td>\n",
              "      <td>533.849976</td>\n",
              "      <td>527.825012</td>\n",
              "      <td>529.099976</td>\n",
              "      <td>509.460754</td>\n",
              "      <td>2241722.0</td>\n",
              "    </tr>\n",
              "    <tr>\n",
              "      <th>3</th>\n",
              "      <td>7/3/2015</td>\n",
              "      <td>527.025024</td>\n",
              "      <td>538.075012</td>\n",
              "      <td>527.025024</td>\n",
              "      <td>537.125000</td>\n",
              "      <td>517.187866</td>\n",
              "      <td>2019644.0</td>\n",
              "    </tr>\n",
              "    <tr>\n",
              "      <th>4</th>\n",
              "      <td>7/6/2015</td>\n",
              "      <td>532.025024</td>\n",
              "      <td>542.500000</td>\n",
              "      <td>530.125000</td>\n",
              "      <td>541.750000</td>\n",
              "      <td>521.641296</td>\n",
              "      <td>1633890.0</td>\n",
              "    </tr>\n",
              "  </tbody>\n",
              "</table>\n",
              "</div>"
            ],
            "text/plain": [
              "        Date        Open        High  ...       Close   Adj Close     Volume\n",
              "0  6/30/2015  526.125000  536.000000  ...  533.575012  506.103973  3645068.0\n",
              "1   7/1/2015  530.674988  538.500000  ...  536.174988  508.570099  2485594.0\n",
              "2   7/2/2015  532.500000  533.849976  ...  529.099976  509.460754  2241722.0\n",
              "3   7/3/2015  527.025024  538.075012  ...  537.125000  517.187866  2019644.0\n",
              "4   7/6/2015  532.025024  542.500000  ...  541.750000  521.641296  1633890.0\n",
              "\n",
              "[5 rows x 7 columns]"
            ]
          },
          "metadata": {
            "tags": []
          },
          "execution_count": 37
        }
      ]
    },
    {
      "cell_type": "code",
      "metadata": {
        "id": "587WRdB_tVhd",
        "colab_type": "code",
        "colab": {
          "base_uri": "https://localhost:8080/",
          "height": 255
        },
        "outputId": "f45af2ab-96a7-4c6a-8f9d-82f51e5cd0d3"
      },
      "source": [
        "df.info()"
      ],
      "execution_count": 38,
      "outputs": [
        {
          "output_type": "stream",
          "text": [
            "<class 'pandas.core.frame.DataFrame'>\n",
            "RangeIndex: 1229 entries, 0 to 1228\n",
            "Data columns (total 7 columns):\n",
            " #   Column     Non-Null Count  Dtype  \n",
            "---  ------     --------------  -----  \n",
            " 0   Date       1229 non-null   object \n",
            " 1   Open       1229 non-null   float64\n",
            " 2   High       1229 non-null   float64\n",
            " 3   Low        1229 non-null   float64\n",
            " 4   Close      1229 non-null   float64\n",
            " 5   Adj Close  1229 non-null   float64\n",
            " 6   Volume     1229 non-null   float64\n",
            "dtypes: float64(6), object(1)\n",
            "memory usage: 67.3+ KB\n"
          ],
          "name": "stdout"
        }
      ]
    },
    {
      "cell_type": "code",
      "metadata": {
        "id": "wEHnQbOnkso8",
        "colab_type": "code",
        "colab": {}
      },
      "source": [
        "df['Date'] = pd.to_datetime(df.Date, infer_datetime_format = True)\n",
        "df.index = df['Date']\n"
      ],
      "execution_count": 39,
      "outputs": []
    },
    {
      "cell_type": "markdown",
      "metadata": {
        "id": "Svpkot-70wIf",
        "colab_type": "text"
      },
      "source": [
        "#### Plotting the time series"
      ]
    },
    {
      "cell_type": "code",
      "metadata": {
        "id": "xIzboFewvMrg",
        "colab_type": "code",
        "colab": {
          "base_uri": "https://localhost:8080/",
          "height": 204
        },
        "outputId": "36f158bf-a2f4-47da-fa92-edfad89a4cf5"
      },
      "source": [
        "df_1 = pd.DataFrame(index = range(0, len(df)), columns = ['Date', 'Close'])\n",
        "\n",
        "for i in range(0, len(df)):\n",
        "  df_1['Date'][i] = df['Date'][i]\n",
        "  df_1['Close'][i] = df['Close'][i]\n",
        "\n",
        "df_1.head()"
      ],
      "execution_count": 40,
      "outputs": [
        {
          "output_type": "execute_result",
          "data": {
            "text/html": [
              "<div>\n",
              "<style scoped>\n",
              "    .dataframe tbody tr th:only-of-type {\n",
              "        vertical-align: middle;\n",
              "    }\n",
              "\n",
              "    .dataframe tbody tr th {\n",
              "        vertical-align: top;\n",
              "    }\n",
              "\n",
              "    .dataframe thead th {\n",
              "        text-align: right;\n",
              "    }\n",
              "</style>\n",
              "<table border=\"1\" class=\"dataframe\">\n",
              "  <thead>\n",
              "    <tr style=\"text-align: right;\">\n",
              "      <th></th>\n",
              "      <th>Date</th>\n",
              "      <th>Close</th>\n",
              "    </tr>\n",
              "  </thead>\n",
              "  <tbody>\n",
              "    <tr>\n",
              "      <th>0</th>\n",
              "      <td>2015-06-30 00:00:00</td>\n",
              "      <td>533.575</td>\n",
              "    </tr>\n",
              "    <tr>\n",
              "      <th>1</th>\n",
              "      <td>2015-07-01 00:00:00</td>\n",
              "      <td>536.175</td>\n",
              "    </tr>\n",
              "    <tr>\n",
              "      <th>2</th>\n",
              "      <td>2015-07-02 00:00:00</td>\n",
              "      <td>529.1</td>\n",
              "    </tr>\n",
              "    <tr>\n",
              "      <th>3</th>\n",
              "      <td>2015-07-03 00:00:00</td>\n",
              "      <td>537.125</td>\n",
              "    </tr>\n",
              "    <tr>\n",
              "      <th>4</th>\n",
              "      <td>2015-07-06 00:00:00</td>\n",
              "      <td>541.75</td>\n",
              "    </tr>\n",
              "  </tbody>\n",
              "</table>\n",
              "</div>"
            ],
            "text/plain": [
              "                  Date    Close\n",
              "0  2015-06-30 00:00:00  533.575\n",
              "1  2015-07-01 00:00:00  536.175\n",
              "2  2015-07-02 00:00:00    529.1\n",
              "3  2015-07-03 00:00:00  537.125\n",
              "4  2015-07-06 00:00:00   541.75"
            ]
          },
          "metadata": {
            "tags": []
          },
          "execution_count": 40
        }
      ]
    },
    {
      "cell_type": "code",
      "metadata": {
        "id": "fGOz_3gXv3hj",
        "colab_type": "code",
        "colab": {
          "base_uri": "https://localhost:8080/",
          "height": 500
        },
        "outputId": "b7d1e5fd-a2e0-4c37-a035-90b443b4675d"
      },
      "source": [
        "plt.figure(figsize = (20,8))\n",
        "plt.plot(df_1['Date'], df_1['Close'], label='Close Price history')"
      ],
      "execution_count": 41,
      "outputs": [
        {
          "output_type": "execute_result",
          "data": {
            "text/plain": [
              "[<matplotlib.lines.Line2D at 0x7f9ac2c4fa58>]"
            ]
          },
          "metadata": {
            "tags": []
          },
          "execution_count": 41
        },
        {
          "output_type": "display_data",
          "data": {
            "image/png": "[encoded data removed]",
            "text/plain": [
              "<Figure size 1440x576 with 1 Axes>"
            ]
          },
          "metadata": {
            "tags": [],
            "needs_background": "light"
          }
        }
      ]
    },
    {
      "cell_type": "markdown",
      "metadata": {
        "id": "3e0dl3sY6Vyh",
        "colab_type": "text"
      },
      "source": [
        "#### Splitting the dataset into the training set and the test set"
      ]
    },
    {
      "cell_type": "markdown",
      "metadata": {
        "id": "i-O4Gwrn6z1F",
        "colab_type": "text"
      },
      "source": [
        "#### Here we are taking the timeframe from 3oth June 2015 to 31st December 2019 as the training set and from 1st January 2020 to 29th June 2020"
      ]
    },
    {
      "cell_type": "code",
      "metadata": {
        "id": "fooc-sCV6b6k",
        "colab_type": "code",
        "colab": {}
      },
      "source": [
        "train = df_1[:1109]\n",
        "test = df_1[1109:]"
      ],
      "execution_count": 53,
      "outputs": []
    },
    {
      "cell_type": "code",
      "metadata": {
        "id": "S748KFl07j9C",
        "colab_type": "code",
        "colab": {
          "base_uri": "https://localhost:8080/",
          "height": 51
        },
        "outputId": "81038a57-6136-4eba-e824-949952c14cd2"
      },
      "source": [
        "print(\"The training set has share prices of : {} days\".format(train.shape[0]))\n",
        "print(\"The test set has share prices of : {} days\".format(test.shape[0]))"
      ],
      "execution_count": 54,
      "outputs": [
        {
          "output_type": "stream",
          "text": [
            "The training set has share prices of : 1109 days\n",
            "The test set has share prices of : 120 days\n"
          ],
          "name": "stdout"
        }
      ]
    },
    {
      "cell_type": "markdown",
      "metadata": {
        "id": "KFA1Xo3g30e3",
        "colab_type": "text"
      },
      "source": [
        "#### Applying moving average to the dataset"
      ]
    },
    {
      "cell_type": "markdown",
      "metadata": {
        "id": "uIayFteu78XE",
        "colab_type": "text"
      },
      "source": [
        "#### Now we will apply moving averages to the dataset and find out the accuracy of the prediction "
      ]
    },
    {
      "cell_type": "code",
      "metadata": {
        "id": "gi4ZqQ7VyKUq",
        "colab_type": "code",
        "colab": {}
      },
      "source": [
        "pred = []\n",
        "\n",
        "for i in range(0, len(test)):\n",
        "  a = train['Close'][len(train) - 60 + i :].sum() + sum(pred) \n",
        "  b = a / 60\n",
        "  pred.append(b)"
      ],
      "execution_count": 55,
      "outputs": []
    },
    {
      "cell_type": "markdown",
      "metadata": {
        "id": "PtKA6HL5_DUH",
        "colab_type": "text"
      },
      "source": [
        "#### Calculating the root mean square error of the prediction"
      ]
    },
    {
      "cell_type": "code",
      "metadata": {
        "id": "XImnkEEo-MlL",
        "colab_type": "code",
        "colab": {}
      },
      "source": [
        "preds = []\n",
        "\n",
        "for i in range(0,test.shape[0]):\n",
        "\n",
        "    a = train['Close'][len(train) - 600 + i:].sum() + sum(preds)\n",
        "    b = a / 600\n",
        "    preds.append(b)\n"
      ],
      "execution_count": 56,
      "outputs": []
    },
    {
      "cell_type": "markdown",
      "metadata": {
        "id": "-KKIyjUtPxQV",
        "colab_type": "text"
      },
      "source": [
        "#### The window of 600 days i.e. 1 year and 7.8 months has been obtained after looking at the values of rmse for different window values"
      ]
    },
    {
      "cell_type": "markdown",
      "metadata": {
        "id": "csSrms1aLDp8",
        "colab_type": "text"
      },
      "source": [
        "#### Checking the accuracy of the prediction using rmse"
      ]
    },
    {
      "cell_type": "code",
      "metadata": {
        "id": "2jrGHMYMA5Zf",
        "colab_type": "code",
        "colab": {
          "base_uri": "https://localhost:8080/",
          "height": 51
        },
        "outputId": "1e46025f-9fc0-4fe9-f798-7600248cd2bf"
      },
      "source": [
        "rmse = np.sqrt(np.mean(np.power((np.array(test['Close']) - preds),2)))\n",
        "print('\\n RMSE value on test set is : {}'.format(rmse))"
      ],
      "execution_count": 57,
      "outputs": [
        {
          "output_type": "stream",
          "text": [
            "\n",
            " RMSE value on test set is : 162.9053634437628\n"
          ],
          "name": "stdout"
        }
      ]
    },
    {
      "cell_type": "markdown",
      "metadata": {
        "id": "YdiHBJcIQljc",
        "colab_type": "text"
      },
      "source": [
        "#### Plotting the actual closing price and the predicted prices"
      ]
    },
    {
      "cell_type": "code",
      "metadata": {
        "id": "R98_p05aEm3N",
        "colab_type": "code",
        "colab": {
          "base_uri": "https://localhost:8080/",
          "height": 830
        },
        "outputId": "fb3b5e9f-de43-438f-d52b-cf3747fc30db"
      },
      "source": [
        "test['Predictions'] = 0\n",
        "test['Predictions'] = preds\n",
        "plt.plot(train['Close'])\n",
        "plt.plot(test[['Close', 'Predictions']])"
      ],
      "execution_count": 58,
      "outputs": [
        {
          "output_type": "stream",
          "text": [
            "/usr/local/lib/python3.6/dist-packages/ipykernel_launcher.py:1: SettingWithCopyWarning: \n",
            "A value is trying to be set on a copy of a slice from a DataFrame.\n",
            "Try using .loc[row_indexer,col_indexer] = value instead\n",
            "\n",
            "See the caveats in the documentation: https://pandas.pydata.org/pandas-docs/stable/user_guide/indexing.html#returning-a-view-versus-a-copy\n",
            "  \"\"\"Entry point for launching an IPython kernel.\n",
            "/usr/local/lib/python3.6/dist-packages/ipykernel_launcher.py:2: SettingWithCopyWarning: \n",
            "A value is trying to be set on a copy of a slice from a DataFrame.\n",
            "Try using .loc[row_indexer,col_indexer] = value instead\n",
            "\n",
            "See the caveats in the documentation: https://pandas.pydata.org/pandas-docs/stable/user_guide/indexing.html#returning-a-view-versus-a-copy\n",
            "  \n"
          ],
          "name": "stderr"
        },
        {
          "output_type": "execute_result",
          "data": {
            "text/plain": [
              "[<matplotlib.lines.Line2D at 0x7f9ac2a67ef0>,\n",
              " <matplotlib.lines.Line2D at 0x7f9ac2a49048>]"
            ]
          },
          "metadata": {
            "tags": []
          },
          "execution_count": 58
        },
        {
          "output_type": "display_data",
          "data": {
            "image/png": "[encoded data removed]",
            "text/plain": [
              "<Figure size 1440x720 with 1 Axes>"
            ]
          },
          "metadata": {
            "tags": [],
            "needs_background": "light"
          }
        }
      ]
    },
    {
      "cell_type": "markdown",
      "metadata": {
        "id": "oBsxYHxwTWM0",
        "colab_type": "text"
      },
      "source": [
        "#### Here since we are taking the average of the predictions as well as the past past values but not values from the test dataset our model could not predict the fall in the closing prices during the start of the year 2020"
      ]
    },
    {
      "cell_type": "markdown",
      "metadata": {
        "id": "rEP7e8f_y9CK",
        "colab_type": "text"
      },
      "source": [
        "#### Using Recurrent Neural Networks to predict the closing share price"
      ]
    },
    {
      "cell_type": "markdown",
      "metadata": {
        "id": "V7oxDmDDzEWP",
        "colab_type": "text"
      },
      "source": [
        "#### Scaling the training dataset"
      ]
    },
    {
      "cell_type": "code",
      "metadata": {
        "id": "X8bLopAfzXnD",
        "colab_type": "code",
        "colab": {}
      },
      "source": [
        "train = df.iloc[:1109,4:5].values\n",
        "test = df.iloc[1109:,4:5].values"
      ],
      "execution_count": 177,
      "outputs": []
    },
    {
      "cell_type": "code",
      "metadata": {
        "id": "k55eNpKgzn8Y",
        "colab_type": "code",
        "colab": {}
      },
      "source": [
        "train_scaled = sc.fit_transform(train)"
      ],
      "execution_count": 178,
      "outputs": []
    },
    {
      "cell_type": "code",
      "metadata": {
        "id": "bAuyCqFa1SMk",
        "colab_type": "code",
        "colab": {
          "base_uri": "https://localhost:8080/",
          "height": 34
        },
        "outputId": "e4beb7cb-6716-4b0d-f2d7-f28e808d62a8"
      },
      "source": [
        "train.shape"
      ],
      "execution_count": 179,
      "outputs": [
        {
          "output_type": "execute_result",
          "data": {
            "text/plain": [
              "(1109, 1)"
            ]
          },
          "metadata": {
            "tags": []
          },
          "execution_count": 179
        }
      ]
    },
    {
      "cell_type": "code",
      "metadata": {
        "id": "86LncR_80NxG",
        "colab_type": "code",
        "colab": {}
      },
      "source": [
        "X_train = []\n",
        "y_train = []"
      ],
      "execution_count": 180,
      "outputs": []
    },
    {
      "cell_type": "markdown",
      "metadata": {
        "id": "UFH9nRlx0cCZ",
        "colab_type": "text"
      },
      "source": [
        "#### X_train will be the input to the neural network whereas y_train will be the output to the neural network. So for each financial day X_train will contain the stock prices of n previous days whereas y_train will contain the stock price for the next financial day. They have been intialized as empty lists. n will be decided by trying different window sizes."
      ]
    },
    {
      "cell_type": "code",
      "metadata": {
        "id": "wM6nlxs60G6J",
        "colab_type": "code",
        "colab": {}
      },
      "source": [
        "for i in range(60, 1109):\n",
        "    X_train.append(train_scaled[i - 60 : i,0])\n",
        "    y_train.append(train_scaled[i,0])"
      ],
      "execution_count": 181,
      "outputs": []
    },
    {
      "cell_type": "markdown",
      "metadata": {
        "id": "k-hCz0Ty14cF",
        "colab_type": "text"
      },
      "source": [
        "#### Here we can see that if take i = 60, it means that the first 60 closing prices from 0 to 59 will get stored in the training set and the 60th value will go the test set"
      ]
    },
    {
      "cell_type": "markdown",
      "metadata": {
        "id": "IYtq156y1tq9",
        "colab_type": "text"
      },
      "source": [
        "#### Since the neural network accepts only numpy arrays we are converting X_train and y_train into arrays"
      ]
    },
    {
      "cell_type": "code",
      "metadata": {
        "id": "c-jeo_5t1ste",
        "colab_type": "code",
        "colab": {}
      },
      "source": [
        "X_train, y_train = np.array(X_train),np.array(y_train)"
      ],
      "execution_count": 182,
      "outputs": []
    },
    {
      "cell_type": "markdown",
      "metadata": {
        "id": "NvXYrl-x2QTi",
        "colab_type": "text"
      },
      "source": [
        "#### Converting the 2D array into 3D array"
      ]
    },
    {
      "cell_type": "markdown",
      "metadata": {
        "id": "tFpltF9m2Wcw",
        "colab_type": "text"
      },
      "source": [
        "#### Here we need three dimensions, the batch size, the number of timestamps and the number of indicators which is 1 in our case"
      ]
    },
    {
      "cell_type": "code",
      "metadata": {
        "id": "-wx8Cu6N1naw",
        "colab_type": "code",
        "colab": {}
      },
      "source": [
        "X_train = np.reshape(X_train,(X_train.shape[0],X_train.shape[1],1))"
      ],
      "execution_count": 183,
      "outputs": []
    },
    {
      "cell_type": "markdown",
      "metadata": {
        "id": "pj3GMvw02qw2",
        "colab_type": "text"
      },
      "source": [
        "#### Importing the Keras libraries and packages"
      ]
    },
    {
      "cell_type": "code",
      "metadata": {
        "id": "-EQdSSco2mi7",
        "colab_type": "code",
        "colab": {}
      },
      "source": [
        "from keras.models import Sequential\n",
        "from keras.layers import Dense\n",
        "from keras.layers import LSTM\n",
        "from keras.layers import Dropout"
      ],
      "execution_count": 184,
      "outputs": []
    },
    {
      "cell_type": "markdown",
      "metadata": {
        "id": "7fu3I_db2y9I",
        "colab_type": "text"
      },
      "source": [
        "#### Initializing the RNN model"
      ]
    },
    {
      "cell_type": "code",
      "metadata": {
        "id": "bw8dOBhj2vSQ",
        "colab_type": "code",
        "colab": {}
      },
      "source": [
        "rnn = Sequential()"
      ],
      "execution_count": 185,
      "outputs": []
    },
    {
      "cell_type": "code",
      "metadata": {
        "id": "0n2vFyXg25BM",
        "colab_type": "code",
        "colab": {}
      },
      "source": [
        "rnn.add(LSTM(units = 50,return_sequences = True, input_shape = (X_train.shape[1],1)))\n",
        "rnn.add(Dropout(0.2))"
      ],
      "execution_count": 186,
      "outputs": []
    },
    {
      "cell_type": "markdown",
      "metadata": {
        "id": "codb8HwL3Eo8",
        "colab_type": "text"
      },
      "source": [
        "#### Here we have done dropout regularization to prevent overfitting"
      ]
    },
    {
      "cell_type": "markdown",
      "metadata": {
        "id": "b2wVpqhc3WBe",
        "colab_type": "text"
      },
      "source": [
        "#### Adding 3 LSTM layers and an output layer"
      ]
    },
    {
      "cell_type": "code",
      "metadata": {
        "id": "Nf7HmBhH3A3C",
        "colab_type": "code",
        "colab": {}
      },
      "source": [
        "rnn.add(LSTM(units = 50,return_sequences = True))\n",
        "rnn.add(Dropout(0.2))\n",
        "\n",
        "rnn.add(LSTM(units = 50,return_sequences = True))\n",
        "rnn.add(Dropout(0.2))\n",
        "\n",
        "rnn.add(LSTM(units = 50))\n",
        "rnn.add(Dropout(0.2))\n",
        "\n",
        "rnn.add(Dense(units = 1))"
      ],
      "execution_count": 187,
      "outputs": []
    },
    {
      "cell_type": "markdown",
      "metadata": {
        "id": "sz7dV79Y3v24",
        "colab_type": "text"
      },
      "source": [
        "#### Compiling the RNN model"
      ]
    },
    {
      "cell_type": "code",
      "metadata": {
        "id": "hOfMPAcX3rW8",
        "colab_type": "code",
        "colab": {}
      },
      "source": [
        "rnn.compile(optimizer = 'adam',loss = 'mean_squared_error')"
      ],
      "execution_count": 188,
      "outputs": []
    },
    {
      "cell_type": "markdown",
      "metadata": {
        "id": "gO47YWHO36f5",
        "colab_type": "text"
      },
      "source": [
        "##### Training the model"
      ]
    },
    {
      "cell_type": "code",
      "metadata": {
        "id": "CNOpztfv35SC",
        "colab_type": "code",
        "colab": {
          "base_uri": "https://localhost:8080/",
          "height": 1000
        },
        "outputId": "b0b102cc-c28b-4238-bdbf-8641373f7218"
      },
      "source": [
        "rnn.fit(X_train, y_train, epochs = 100, batch_size = 32)"
      ],
      "execution_count": 189,
      "outputs": [
        {
          "output_type": "stream",
          "text": [
            "Epoch 1/100\n",
            "1049/1049 [==============================] - 6s 6ms/step - loss: 0.2146\n",
            "Epoch 2/100\n",
            "1049/1049 [==============================] - 5s 5ms/step - loss: 0.0358\n",
            "Epoch 3/100\n",
            "1049/1049 [==============================] - 5s 5ms/step - loss: 0.0248\n",
            "Epoch 4/100\n",
            "1049/1049 [==============================] - 5s 5ms/step - loss: 0.0248\n",
            "Epoch 5/100\n",
            "1049/1049 [==============================] - 5s 4ms/step - loss: 0.0254\n",
            "Epoch 6/100\n",
            "1049/1049 [==============================] - 5s 4ms/step - loss: 0.0213\n",
            "Epoch 7/100\n",
            "1049/1049 [==============================] - 5s 4ms/step - loss: 0.0210\n",
            "Epoch 8/100\n",
            "1049/1049 [==============================] - 5s 4ms/step - loss: 0.0180\n",
            "Epoch 9/100\n",
            "1049/1049 [==============================] - 5s 5ms/step - loss: 0.0183\n",
            "Epoch 10/100\n",
            "1049/1049 [==============================] - 5s 5ms/step - loss: 0.0176\n",
            "Epoch 11/100\n",
            "1049/1049 [==============================] - 5s 4ms/step - loss: 0.0204\n",
            "Epoch 12/100\n",
            "1049/1049 [==============================] - 5s 5ms/step - loss: 0.0188\n",
            "Epoch 13/100\n",
            "1049/1049 [==============================] - 5s 4ms/step - loss: 0.0186\n",
            "Epoch 14/100\n",
            "1049/1049 [==============================] - 5s 4ms/step - loss: 0.0182\n",
            "Epoch 15/100\n",
            "1049/1049 [==============================] - 5s 4ms/step - loss: 0.0158\n",
            "Epoch 16/100\n",
            "1049/1049 [==============================] - 5s 5ms/step - loss: 0.0188\n",
            "Epoch 17/100\n",
            "1049/1049 [==============================] - 5s 4ms/step - loss: 0.0174\n",
            "Epoch 18/100\n",
            "1049/1049 [==============================] - 5s 4ms/step - loss: 0.0172\n",
            "Epoch 19/100\n",
            "1049/1049 [==============================] - 5s 5ms/step - loss: 0.0180\n",
            "Epoch 20/100\n",
            "1049/1049 [==============================] - 5s 5ms/step - loss: 0.0157\n",
            "Epoch 21/100\n",
            "1049/1049 [==============================] - 5s 4ms/step - loss: 0.0154\n",
            "Epoch 22/100\n",
            "1049/1049 [==============================] - 5s 4ms/step - loss: 0.0155\n",
            "Epoch 23/100\n",
            "1049/1049 [==============================] - 5s 4ms/step - loss: 0.0191\n",
            "Epoch 24/100\n",
            "1049/1049 [==============================] - 5s 4ms/step - loss: 0.0150\n",
            "Epoch 25/100\n",
            "1049/1049 [==============================] - 5s 5ms/step - loss: 0.0147\n",
            "Epoch 26/100\n",
            "1049/1049 [==============================] - 5s 5ms/step - loss: 0.0156\n",
            "Epoch 27/100\n",
            "1049/1049 [==============================] - 5s 5ms/step - loss: 0.0157\n",
            "Epoch 28/100\n",
            "1049/1049 [==============================] - 5s 4ms/step - loss: 0.0166\n",
            "Epoch 29/100\n",
            "1049/1049 [==============================] - 5s 5ms/step - loss: 0.0164\n",
            "Epoch 30/100\n",
            "1049/1049 [==============================] - 5s 4ms/step - loss: 0.0177\n",
            "Epoch 31/100\n",
            "1049/1049 [==============================] - 5s 4ms/step - loss: 0.0156\n",
            "Epoch 32/100\n",
            "1049/1049 [==============================] - 5s 5ms/step - loss: 0.0145\n",
            "Epoch 33/100\n",
            "1049/1049 [==============================] - 5s 5ms/step - loss: 0.0205\n",
            "Epoch 34/100\n",
            "1049/1049 [==============================] - 5s 4ms/step - loss: 0.0153\n",
            "Epoch 35/100\n",
            "1049/1049 [==============================] - 5s 4ms/step - loss: 0.0149\n",
            "Epoch 36/100\n",
            "1049/1049 [==============================] - 5s 4ms/step - loss: 0.0146\n",
            "Epoch 37/100\n",
            "1049/1049 [==============================] - 5s 5ms/step - loss: 0.0151\n",
            "Epoch 38/100\n",
            "1049/1049 [==============================] - 5s 4ms/step - loss: 0.0148\n",
            "Epoch 39/100\n",
            "1049/1049 [==============================] - 5s 5ms/step - loss: 0.0152\n",
            "Epoch 40/100\n",
            "1049/1049 [==============================] - 5s 5ms/step - loss: 0.0131\n",
            "Epoch 41/100\n",
            "1049/1049 [==============================] - 5s 5ms/step - loss: 0.0135\n",
            "Epoch 42/100\n",
            "1049/1049 [==============================] - 5s 5ms/step - loss: 0.0136\n",
            "Epoch 43/100\n",
            "1049/1049 [==============================] - 5s 5ms/step - loss: 0.0139\n",
            "Epoch 44/100\n",
            "1049/1049 [==============================] - 5s 5ms/step - loss: 0.0140\n",
            "Epoch 45/100\n",
            "1049/1049 [==============================] - 5s 5ms/step - loss: 0.0134\n",
            "Epoch 46/100\n",
            "1049/1049 [==============================] - 5s 5ms/step - loss: 0.0137\n",
            "Epoch 47/100\n",
            "1049/1049 [==============================] - 5s 5ms/step - loss: 0.0134\n",
            "Epoch 48/100\n",
            "1049/1049 [==============================] - 5s 5ms/step - loss: 0.0127\n",
            "Epoch 49/100\n",
            "1049/1049 [==============================] - 5s 5ms/step - loss: 0.0124\n",
            "Epoch 50/100\n",
            "1049/1049 [==============================] - 5s 5ms/step - loss: 0.0144\n",
            "Epoch 51/100\n",
            "1049/1049 [==============================] - 5s 5ms/step - loss: 0.0123\n",
            "Epoch 52/100\n",
            "1049/1049 [==============================] - 5s 5ms/step - loss: 0.0165\n",
            "Epoch 53/100\n",
            "1049/1049 [==============================] - 5s 5ms/step - loss: 0.0150\n",
            "Epoch 54/100\n",
            "1049/1049 [==============================] - 5s 5ms/step - loss: 0.0130\n",
            "Epoch 55/100\n",
            "1049/1049 [==============================] - 5s 5ms/step - loss: 0.0130\n",
            "Epoch 56/100\n",
            "1049/1049 [==============================] - 5s 4ms/step - loss: 0.0148\n",
            "Epoch 57/100\n",
            "1049/1049 [==============================] - 5s 5ms/step - loss: 0.0127\n",
            "Epoch 58/100\n",
            "1049/1049 [==============================] - 5s 5ms/step - loss: 0.0126\n",
            "Epoch 59/100\n",
            "1049/1049 [==============================] - 5s 5ms/step - loss: 0.0137\n",
            "Epoch 60/100\n",
            "1049/1049 [==============================] - 5s 4ms/step - loss: 0.0124\n",
            "Epoch 61/100\n",
            "1049/1049 [==============================] - 5s 5ms/step - loss: 0.0126\n",
            "Epoch 62/100\n",
            "1049/1049 [==============================] - 5s 4ms/step - loss: 0.0131\n",
            "Epoch 63/100\n",
            "1049/1049 [==============================] - 5s 4ms/step - loss: 0.0140\n",
            "Epoch 64/100\n",
            "1049/1049 [==============================] - 5s 4ms/step - loss: 0.0116\n",
            "Epoch 65/100\n",
            "1049/1049 [==============================] - 5s 5ms/step - loss: 0.0122\n",
            "Epoch 66/100\n",
            "1049/1049 [==============================] - 5s 4ms/step - loss: 0.0126\n",
            "Epoch 67/100\n",
            "1049/1049 [==============================] - 5s 4ms/step - loss: 0.0135\n",
            "Epoch 68/100\n",
            "1049/1049 [==============================] - 5s 4ms/step - loss: 0.0121\n",
            "Epoch 69/100\n",
            "1049/1049 [==============================] - 5s 4ms/step - loss: 0.0128\n",
            "Epoch 70/100\n",
            "1049/1049 [==============================] - 5s 4ms/step - loss: 0.0129\n",
            "Epoch 71/100\n",
            "1049/1049 [==============================] - 5s 4ms/step - loss: 0.0109\n",
            "Epoch 72/100\n",
            "1049/1049 [==============================] - 5s 5ms/step - loss: 0.0120\n",
            "Epoch 73/100\n",
            "1049/1049 [==============================] - 5s 4ms/step - loss: 0.0120\n",
            "Epoch 74/100\n",
            "1049/1049 [==============================] - 5s 5ms/step - loss: 0.0115\n",
            "Epoch 75/100\n",
            "1049/1049 [==============================] - 5s 4ms/step - loss: 0.0114\n",
            "Epoch 76/100\n",
            "1049/1049 [==============================] - 5s 5ms/step - loss: 0.0119\n",
            "Epoch 77/100\n",
            "1049/1049 [==============================] - 5s 4ms/step - loss: 0.0128\n",
            "Epoch 78/100\n",
            "1049/1049 [==============================] - 5s 4ms/step - loss: 0.0107\n",
            "Epoch 79/100\n",
            "1049/1049 [==============================] - 5s 4ms/step - loss: 0.0124\n",
            "Epoch 80/100\n",
            "1049/1049 [==============================] - 5s 5ms/step - loss: 0.0116\n",
            "Epoch 81/100\n",
            "1049/1049 [==============================] - 5s 5ms/step - loss: 0.0111\n",
            "Epoch 82/100\n",
            "1049/1049 [==============================] - 5s 5ms/step - loss: 0.0125\n",
            "Epoch 83/100\n",
            "1049/1049 [==============================] - 5s 4ms/step - loss: 0.0104\n",
            "Epoch 84/100\n",
            "1049/1049 [==============================] - 5s 5ms/step - loss: 0.0124\n",
            "Epoch 85/100\n",
            "1049/1049 [==============================] - 5s 5ms/step - loss: 0.0114\n",
            "Epoch 86/100\n",
            "1049/1049 [==============================] - 5s 4ms/step - loss: 0.0124\n",
            "Epoch 87/100\n",
            "1049/1049 [==============================] - 5s 4ms/step - loss: 0.0121\n",
            "Epoch 88/100\n",
            "1049/1049 [==============================] - 5s 5ms/step - loss: 0.0106\n",
            "Epoch 89/100\n",
            "1049/1049 [==============================] - 5s 4ms/step - loss: 0.0103\n",
            "Epoch 90/100\n",
            "1049/1049 [==============================] - 5s 4ms/step - loss: 0.0102\n",
            "Epoch 91/100\n",
            "1049/1049 [==============================] - 5s 5ms/step - loss: 0.0113\n",
            "Epoch 92/100\n",
            "1049/1049 [==============================] - 5s 5ms/step - loss: 0.0108\n",
            "Epoch 93/100\n",
            "1049/1049 [==============================] - 5s 5ms/step - loss: 0.0110\n",
            "Epoch 94/100\n",
            "1049/1049 [==============================] - 5s 5ms/step - loss: 0.0125\n",
            "Epoch 95/100\n",
            "1049/1049 [==============================] - 5s 5ms/step - loss: 0.0106\n",
            "Epoch 96/100\n",
            "1049/1049 [==============================] - 5s 5ms/step - loss: 0.0102\n",
            "Epoch 97/100\n",
            "1049/1049 [==============================] - 5s 4ms/step - loss: 0.0099\n",
            "Epoch 98/100\n",
            "1049/1049 [==============================] - 5s 4ms/step - loss: 0.0112\n",
            "Epoch 99/100\n",
            "1049/1049 [==============================] - 5s 4ms/step - loss: 0.0128\n",
            "Epoch 100/100\n",
            "1049/1049 [==============================] - 5s 5ms/step - loss: 0.0111\n"
          ],
          "name": "stdout"
        },
        {
          "output_type": "execute_result",
          "data": {
            "text/plain": [
              "<keras.callbacks.callbacks.History at 0x7f9a7ad83b70>"
            ]
          },
          "metadata": {
            "tags": []
          },
          "execution_count": 189
        }
      ]
    },
    {
      "cell_type": "markdown",
      "metadata": {
        "id": "IGN4bI176sak",
        "colab_type": "text"
      },
      "source": [
        "#### Now to predict for the month of January 2020 we need dataset before January which is present in the training set. So, we need to combine the two datasets, so that we can use both the training and test set data to predict the closing prices"
      ]
    },
    {
      "cell_type": "code",
      "metadata": {
        "id": "f9c92F_D32wA",
        "colab_type": "code",
        "colab": {}
      },
      "source": [
        "total = df.iloc[:,4:5].values"
      ],
      "execution_count": 143,
      "outputs": []
    },
    {
      "cell_type": "code",
      "metadata": {
        "id": "C5ZLiEWc8iW0",
        "colab_type": "code",
        "colab": {}
      },
      "source": [
        "inputs = total[len(total)-len(test)-60:]\n",
        "inputs = inputs.reshape(-1,1)\n",
        "inputs = sc.transform(inputs)\n",
        "X_test = []\n"
      ],
      "execution_count": 146,
      "outputs": []
    },
    {
      "cell_type": "markdown",
      "metadata": {
        "id": "_URGpWcS9RhS",
        "colab_type": "text"
      },
      "source": [
        "#### We have 120 days in the test set. So for the last value we need 60 days of data before that. So here we are using data from the test set to predict for a day in the test set only."
      ]
    },
    {
      "cell_type": "code",
      "metadata": {
        "id": "1hholKri7QM7",
        "colab_type": "code",
        "colab": {}
      },
      "source": [
        "for i in range(60, 180):\n",
        "    X_test.append(inputs[i-60:i,0])\n",
        "X_test = np.array(X_test)"
      ],
      "execution_count": 148,
      "outputs": []
    },
    {
      "cell_type": "markdown",
      "metadata": {
        "id": "sN2aSRJw9pGY",
        "colab_type": "text"
      },
      "source": [
        "#### Here if take the first value 60, it means we are predicting for the very first value in the test dataset. So, all the 60 prices preceeding that data are added to X_test based on which we will predict for the 61st day which is the first day in the test set"
      ]
    },
    {
      "cell_type": "code",
      "metadata": {
        "id": "gdMuwFz79oXk",
        "colab_type": "code",
        "colab": {}
      },
      "source": [
        "X_test = np.reshape(X_test,(X_test.shape[0],X_test.shape[1],1))\n",
        "predicted_stock_price = rnn.predict(X_test)"
      ],
      "execution_count": 150,
      "outputs": []
    },
    {
      "cell_type": "markdown",
      "metadata": {
        "id": "r0SZjdmA-P67",
        "colab_type": "text"
      },
      "source": [
        "#### Since we have scaled our values we need to bring back the prices in the original format\n"
      ]
    },
    {
      "cell_type": "code",
      "metadata": {
        "id": "Ne3tqjJ8-FMr",
        "colab_type": "code",
        "colab": {}
      },
      "source": [
        "predicted_stock_price = sc.inverse_transform(predicted_stock_price)"
      ],
      "execution_count": 151,
      "outputs": []
    },
    {
      "cell_type": "markdown",
      "metadata": {
        "id": "oycwCBCG-gY8",
        "colab_type": "text"
      },
      "source": [
        "#### Plotting the results from our RNN model"
      ]
    },
    {
      "cell_type": "code",
      "metadata": {
        "id": "aKquSBN3-gAL",
        "colab_type": "code",
        "colab": {
          "base_uri": "https://localhost:8080/",
          "height": 621
        },
        "outputId": "f51b6364-2518-460b-ab85-1c5cd6df7565"
      },
      "source": [
        "plt.plot(test, color ='red', label = 'Real Google Stock Price')\n",
        "plt.plot(predicted_stock_price, color = 'blue', \n",
        "         label = 'Predicted Google Stock Price')\n",
        "plt.title('Google Stock Price Prediction')\n",
        "plt.xlabel('Time')\n",
        "plt.ylabel('Google Stock Price')\n",
        "plt.show()"
      ],
      "execution_count": 153,
      "outputs": [
        {
          "output_type": "display_data",
          "data": {
            "image/png": "[encoded data removed]",
            "text/plain": [
              "<Figure size 1440x720 with 1 Axes>"
            ]
          },
          "metadata": {
            "tags": [],
            "needs_background": "light"
          }
        }
      ]
    },
    {
      "cell_type": "markdown",
      "metadata": {
        "id": "FT0V9Dn7_EEa",
        "colab_type": "text"
      },
      "source": [
        "#### Evaluating the RNN model"
      ]
    },
    {
      "cell_type": "code",
      "metadata": {
        "id": "900R32an-ZqB",
        "colab_type": "code",
        "colab": {
          "base_uri": "https://localhost:8080/",
          "height": 34
        },
        "outputId": "266a717b-e900-4487-b4ff-1ad58a39f42e"
      },
      "source": [
        "import math\n",
        "from sklearn.metrics import mean_squared_error\n",
        "rmse = math.sqrt(mean_squared_error(test, predicted_stock_price))\n",
        "rmse"
      ],
      "execution_count": 156,
      "outputs": [
        {
          "output_type": "execute_result",
          "data": {
            "text/plain": [
              "40.6427241061133"
            ]
          },
          "metadata": {
            "tags": []
          },
          "execution_count": 156
        }
      ]
    },
    {
      "cell_type": "markdown",
      "metadata": {
        "id": "0LtmLzTCCAhJ",
        "colab_type": "text"
      },
      "source": [
        "#### Here we can see how the root mean squared error has reduced from 162 for the moving average to 40 for the recurrent neural network"
      ]
    }
  ]
}